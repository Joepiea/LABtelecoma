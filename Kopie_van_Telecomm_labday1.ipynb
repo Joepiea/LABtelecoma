{
  "cells": [
    {
      "cell_type": "markdown",
      "metadata": {
        "id": "view-in-github",
        "colab_type": "text"
      },
      "source": [
        "<a href=\"https://colab.research.google.com/github/Joepiea/LABtelecoma/blob/main/Kopie_van_Telecomm_labday1.ipynb\" target=\"_parent\"><img src=\"https://colab.research.google.com/assets/colab-badge.svg\" alt=\"Open In Colab\"/></a>"
      ]
    },
    {
      "cell_type": "markdown",
      "metadata": {
        "id": "wkBsI_sf9iok"
      },
      "source": [
        "#![picture one](http://drive.google.com/uc?export=view&id=1THNFEYjgj5RkrxAASCYq0y54FpCZ2tDs)\n",
        "<p align=\"center\">\n",
        "\n",
        "\n",
        "[Practicum Content](https://colab.research.google.com/drive/1h44SSQ26z7SwVzRTF5KhoMLsqFlmo3SX?usp=sharing) |[Python Handbook](https://colab.research.google.com/drive/16jSnM5LCnNkF6as5o0ss6CnWOoM_Ah3D?usp=sharing#scrollTo=2o0C4AKI8Fw8) | [Brightspace page](https://brightspace.tudelft.nl/d2l/home/499681)\n",
        "\n",
        "Authors: Alle-Jan van der Veen, Emiel van Veldhuijzen, Bahareh Abdi, Last update: 13/02/2023\n",
        "\n",
        "# **Labday 1: Convolution**"
      ]
    },
    {
      "cell_type": "markdown",
      "metadata": {
        "id": "OgFpUJixVlK1"
      },
      "source": [
        "In this labday, you will study time-domain signals and apply basic filters via convolution.  You have seen the definition\n",
        "of a convolution, but what does it really do? And how can you interprete the impulse response of a digital\n",
        "filter?\n",
        "\n",
        "The specific topics you'll learn in this labday are: basic filtering in time-domain, insight in convolution, correlation as a convolution.\n",
        "We will test this on audio signals, so you'll need a PC with a built-in loudspeaker.\n",
        "\n",
        "You have to complete the code or text cells indicated with   <font color=green>`# your code here` or <font color=#6698FF> `# your description here`. <font color=black> Moreover, at the end of some sections you will see <font color=#6698FF> `# report here`  <font color=black> where you have to summarize the results of that section and report on your results. Note that the descriptions and reporting of your observations, reasoning and results are very important while grading your notebooks."
      ]
    },
    {
      "cell_type": "markdown",
      "metadata": {
        "id": "Gy5G1T-_SVrz"
      },
      "source": [
        "**Importing required libraries and downloading files**\n",
        "\n",
        "Before we start, we should import some packages which we will be using throughout the colab. Links to their respective documentation is provided and should be reviewed first if any problems arise.\n",
        "* Numpy ([docs](https://numpy.org/doc/stable/)) - used for numerical operations\n",
        "* Matplotlib ([docs](https://matplotlib.org/stable/index.html)) - used for making graphs\n",
        "* SciPy ([docs](https://docs.scipy.org/doc/scipy/)) - used for signal processing\n",
        "\n",
        "Other packages may be used, but all exercises can be done with the packages mentioned above.\n"
      ]
    },
    {
      "cell_type": "code",
      "execution_count": null,
      "metadata": {
        "id": "ug8CnKKUSb11"
      },
      "outputs": [],
      "source": [
        "# Modules\n",
        "import matplotlib.pyplot as plt           # For plotting purposes\n",
        "import numpy as np                        # For convolution function\n",
        "from scipy.io import wavfile              # For loading wav file\n",
        "from scipy import signal                  # For filter function\n",
        "import math                               # For numerical approximation of pi\n",
        "from IPython.display import Image         # For loading image\n",
        "from IPython.display import Audio         # For playing wav file\n",
        "from IPython.display import YouTubeVideo  # To play youtube link\n",
        "from scipy.io.wavfile import write        # To convert data into wav file"
      ]
    },
    {
      "cell_type": "code",
      "execution_count": null,
      "metadata": {
        "id": "Sj9xp1A_JI_a"
      },
      "outputs": [],
      "source": [
        "# Plot settings for all figures, only for the colab including the solutions\n",
        "plt.rcParams.update({'font.size': 12})    # Plot setting to enlarge the fontsize for the whole colab file"
      ]
    },
    {
      "cell_type": "code",
      "execution_count": null,
      "metadata": {
        "id": "9R0MKd7BczQu",
        "colab": {
          "base_uri": "https://localhost:8080/"
        },
        "outputId": "96482111-d95e-4d22-ef57-19457d46275f"
      },
      "outputs": [
        {
          "output_type": "stream",
          "name": "stdout",
          "text": [
            "Downloading...\n",
            "From: https://drive.google.com/uc?id=1kl6K04MidIM76DS26Xxeym2sFkOiivz2\n",
            "To: /content/train.wav\n",
            "\r  0% 0.00/25.8k [00:00<?, ?B/s]\r100% 25.8k/25.8k [00:00<00:00, 28.0MB/s]\n"
          ]
        }
      ],
      "source": [
        "# downloading the required files\n",
        "!gdown 1kl6K04MidIM76DS26Xxeym2sFkOiivz2 # sound wave train.wav"
      ]
    },
    {
      "cell_type": "markdown",
      "metadata": {
        "id": "aGPwRzYqzDaT"
      },
      "source": [
        "\n",
        "## 1.1 Convolution\n",
        "\n",
        "**Theory**\n",
        "\n",
        "In this exercise, we look at the effect of a convolution on a time-discrete signal $x[n]$. You have learned that an LTI system (filter) is described by an impulse response $h[n]$, and the output of the filter is written as $y = h*x$, or often (mathematically not entirely correct) $y[n] = h[n]*x[n]$, which is defined as:\n",
        "$$y[n] =\\sum_{k=-∞}^{∞} h[k]x[n-k]$$\n",
        "\n",
        "If the filter has finite impulse response (FIR) and is causal, then $h[k]$ is nonzero only for $k ={0,...,N_h-1}$, where $N_h$ is the “length” of the filter, and this becomes:\n",
        "$$y[n] =\\sum_{k=0}^{N_h-1} h[k]x[n-k]$$\n",
        "\n",
        "The question is: what does this equation mean? One interpretation is that we can write\n",
        "$$y[n] = h[0]x[n]+h[1]x[n-1]+...+h[N_h-1]x[n-N_h+1]$$\n",
        "Thus, the response $y[n]$ consists of scaled and delayed copies of $x[n]$. The delayed copies can be interpreted as echo’s of the original signal $x[n]$.\n",
        "\n",
        "In Python, the available samples of $x[n]$ are stored in a vector `x`; obviously we can take only a finite length sequence here. Standard Python indexing of a vector starts with n = 0, thus, a vector x is interpreted as\n",
        "`x = [x[0],x[1],...,x[Nx-1]]`\n",
        "But suppose we need a different time range? The only option is to define, along with `x`, a time-index vector `nx` that in the above case is: `nx = [0,1,..,Nx-1]`, but in other cases could be a different vector. \n",
        "\n",
        "With the time-axis properly defined, we can then create a \"stick\" plot using `stem(nx,x)`. If you have a large number of samples, it is usually more clear to plot a continuous line using `plot(nx,x)`.\n",
        "\n",
        "In many cases, a discrete time-domain signal is obtained by sampling an analog time-domain signal, at\n",
        "a rate determined by the sampling frequency $F_s$ in hertz (or samples per second). The corresponding\n",
        "sampling period is $T_s = 1/F_s$, in seconds. For example, if $F_s = 40$ kHz, then $T_s = 25$ μs. You can plot the\n",
        "time-series with the proper time-axis using `plot(n*Ts,x)`.\n",
        "\n"
      ]
    },
    {
      "cell_type": "markdown",
      "source": [
        "\n",
        "**Python functions to perform convolution**\n",
        "\n",
        "Python functions for convolutions are:\n",
        "1.  [numpy.convolve](https://numpy.org/doc/stable/reference/generated/numpy.convolve.html):`y = np.convolve(x,h)` \n",
        "2.  [scipy.signal.lfilter](https://docs.scipy.org/doc/scipy/reference/generated/scipy.signal.lfilter.htmlFiltering): `y = signal.lfilter(b,a,x)`\n",
        "\n",
        "\n",
        "The first form corresponds to an FIR filtering where the FIR filter coefficients $h[n]$ are specified (stored in a vector h, also finite length). For an FIR filter, these coefficients are equal to its impulse response. \n",
        "The second form corresponds to $Y(z) = X(z)\\frac{B(z)}{A(z) }$, and the filter coefficients of $B(z)$ and $A(z)$ are specified:\n",
        "$$Y(z) = X(z)\\frac{b_0+b_1z-1+...+b_Mz^{-M}}{a_0+a_1z-1+...+a_Nz^{-N}} \\quad\\Longleftrightarrow\\quad \\sum_{k=0}^{N}a_ky[n-k] = \\sum_{k=0}^{M}b_ky[n-k]$$\n",
        "If $A(z) = 1$, or `a = 1`, you obtain an FIR filter $H(z) = B(z)$.\n",
        "\n",
        "Due to the convolution, signals generally get longer. With `np.convolve`, the standard option is that the tail part is included, whereas with `signal.lfilter`, the signal $y$ has the same number of entries as $x$, hence the tail is\n",
        "truncated.\n",
        "\n"
      ],
      "metadata": {
        "id": "YJC4PcBFf4IY"
      }
    },
    {
      "cell_type": "markdown",
      "metadata": {
        "id": "qatSRDG8zDad"
      },
      "source": [
        "\n",
        "**Time Index**\n",
        "\n",
        "Note that both functions do not accept a parameter that defines the time index. You will have to keep track of that yourself.\n",
        "\n",
        "__Questions:__\n",
        "* If a vector $x$ has $N_x$ samples and another vector $h$ has $N_h$ samples, how many samples will the convolution of $x$ and $h$, i.e. $y=x*h$ have? Try to reason it without using the function `numpy.convolve` yet!"
      ]
    },
    {
      "cell_type": "markdown",
      "metadata": {
        "id": "1Z-J2PJlzDae"
      },
      "source": [
        "<font color=#6698FF> # your description here\n"
      ]
    },
    {
      "cell_type": "markdown",
      "metadata": {
        "id": "ShWW4j6-zDaf"
      },
      "source": [
        "* If $x$ has time-index vector `nx = [a,a+1,...,b]` and $h$ has time-index vector `nh = [c,c+1,...,d]`, show that the proper time-index vector for $y$ is `ny = [a+c,...,b+d]`. Is this consistent with your answer for the length of $y$? "
      ]
    },
    {
      "cell_type": "markdown",
      "metadata": {
        "id": "PVLAI3O6zDag"
      },
      "source": [
        "<font color=#6698FF> # your description here\n"
      ]
    },
    {
      "cell_type": "markdown",
      "metadata": {
        "id": "cy0YogoezDah"
      },
      "source": [
        "\n",
        "**Convolution Using `np.convolve`**\n",
        "\n",
        "Now it is time to really try out convolution in practice! The code below defines two vectors $x$ and $h$ and plots them."
      ]
    },
    {
      "cell_type": "code",
      "execution_count": null,
      "metadata": {
        "id": "N_2sR63MzDai",
        "colab": {
          "base_uri": "https://localhost:8080/",
          "height": 509
        },
        "outputId": "e6a36ba2-2760-4822-cdd8-b4d68c2a8393"
      },
      "outputs": [
        {
          "output_type": "display_data",
          "data": {
            "text/plain": [
              "<Figure size 504x504 with 2 Axes>"
            ],
            "image/png": "[encoded data removed]"
          },
          "metadata": {
            "needs_background": "light"
          }
        }
      ],
      "source": [
        "# Example h vector\n",
        "h = [0, 0, 0, 0, 0, 0, -0.5] \n",
        "Nh = len(h)\n",
        "nh = list(range(0,Nh))  # runs from 0 to Nh-1\n",
        "\n",
        "# Example x vector\n",
        "x = [1, 2, 1, 0, 0, 0, 0, 0, 0, 0, 0, 0, 0] # Example vector\n",
        "Nx = len(x)\n",
        "nx = list(range(0,Nx))\n",
        "\n",
        "# figure \n",
        "fig,a = plt.subplots(2,1, figsize=(7,7)) # define two subplots\n",
        "a[0].stem(nx,x,use_line_collection=True)\n",
        "a[0].set_title('x')\n",
        "a[0].set_xlabel('n')\n",
        "a[0].set_ylabel('x[n]')\n",
        "a[1].stem(nh,h,use_line_collection=True)\n",
        "a[1].set_title('h')\n",
        "a[1].set_xlabel('n')\n",
        "a[1].set_ylabel('h[n]')\n",
        "fig.tight_layout()\n",
        "a[0].grid()\n",
        "a[1].grid()\n",
        "plt.show()"
      ]
    },
    {
      "cell_type": "markdown",
      "metadata": {
        "id": "NtuZFDJFzDak"
      },
      "source": [
        "Compute the convolution of $x$ and $h$ using `np.convolve` and plot it. Don't forget the time-index vector!"
      ]
    },
    {
      "cell_type": "code",
      "execution_count": null,
      "metadata": {
        "id": "0tN53MSkzDal"
      },
      "outputs": [],
      "source": [
        "# Numpy convolve built-in function\n",
        "y = np.convolve()\n",
        "# Support range of convolution of vectors x and h\n",
        "ny = # your code here\n",
        "\n",
        "# figure\n",
        "plt.figure(figsize=(11,4)) # plot\n",
        "plt.stem(ny,y,use_line_collection=True)\n",
        "plt.title('$(x * h)[n]$')\n",
        "plt.xlabel('n')\n",
        "plt.ylabel('$(x * h)[n]$')\n",
        "plt.ylim([-1.1, 0.1])\n",
        "plt.grid()\n",
        "plt.xticks(ny);"
      ]
    },
    {
      "cell_type": "markdown",
      "metadata": {
        "id": "7_bAYEy8zDam"
      },
      "source": [
        "**Convolution Using `signal.lfilter`**\n",
        "\n",
        "Now do the same but use `signal.lfilter` instead of `np.convolve`. In principle, the resulting vector should be the same, but note that `lfilter` may cut off part of the resulting signal to make the output of length $N_x$."
      ]
    },
    {
      "cell_type": "code",
      "execution_count": null,
      "metadata": {
        "id": "BzNZfHRGzDam"
      },
      "outputs": [],
      "source": [
        "# your code here\n",
        "y = # your code here\n",
        "plt.figure(figsize=(6.5,4))\n",
        "plt.stem(y,use_line_collection=True)\n",
        "plt.title('(x * h)[n] via filter');\n",
        "plt.grid()\n"
      ]
    },
    {
      "cell_type": "markdown",
      "metadata": {
        "id": "lqSlxmvkzDan"
      },
      "source": [
        "* How do you interpret the results?\n",
        "\n",
        "Spend some time changing the signals $x$ and $h$ and see how the convolution changes! For example, try the following vectors for $h$:\n",
        "\n",
        "`h = [1, 0, 0, 0, 0, 0, -0.5]`\n",
        "\n",
        "`h = [1, 0, 0, 0, 0.5, 0, 0, 0, -0.5]`\n",
        "\n",
        "Note how the convolution is built step by step. For each nonzero tap of the impulse response $h$ the signal $x$ is delayed and scaled accordingly, and the result is added to the output $y$. The nonzero taps of the impulse response can be interpreted as echo's, or multipath reflections. (Usually, the segments that are being added overlap.)"
      ]
    },
    {
      "cell_type": "markdown",
      "metadata": {
        "id": "fIuwdUZjzDao"
      },
      "source": [
        "**Properties**\n",
        "\n",
        "The convolution operator is linear, distributive, associative, and the order of the operands can be reversed:\n",
        "$$(h_1+h_2)*x = h_1*x+h_2*x$$\n",
        "\n",
        "$$(h_1*h_2)*x = h_1*(h_2*x)$$\n",
        "\n",
        "$$h*x = x*h$$\n",
        "\n",
        "* Verify these properties using `np.convolve`"
      ]
    },
    {
      "cell_type": "code",
      "execution_count": null,
      "metadata": {
        "id": "I5lRuk0szDao"
      },
      "outputs": [],
      "source": [
        "# To verify the last property\n",
        "y1 = # your code here # y1 = h*x\n",
        "y2 = # your code here # y2 = x*h\n",
        "print(y1-y2) # Verify by subtracting both variables, result should be the zero vector"
      ]
    },
    {
      "cell_type": "markdown",
      "metadata": {
        "id": "io6pgzedzDao"
      },
      "source": [
        "**Exercise Task 1:**\n",
        "\n",
        "Consider the first-order IIR system defined by\n",
        "$$H(z) = \\frac{1}{1-az^{-1}},\\quad\\lvert a\\rvert<1$$\n",
        "\n",
        "\n",
        "The filter can be implemented in Python using `y = signal.lfilter([1],[1, -a],x)` where $x$ is the input sequence and $y$ is the output sequence (remember it is truncated to have the same length as $x$). For $0<a<1$ this is a simple lowpass filter, and for $-1<a<0$ it is a highpass filter. If $|a|\\ge 1$, the filter is unstable.\n",
        "\n",
        "The impulse response truncated to length $N$ is obtained as `h =  signal.lfilter([1], [1, -a],[1, [0]*N])`.\n",
        "\n",
        "\n",
        "\n",
        "\n",
        "* Plot the impulse response of this filter for $a=0.95$ and $a=-0.95$. How does this filter change an impulse? How does it change a more general input signal, such as a step, `x = [1]*20`?\n",
        "\n",
        "* How can you see from the impulse response or the step response that the filter acts as a lowpass (i.e. averages an input signal) or as a highpass (i.e. magnifies differences in the input samples)?\n",
        "\n",
        "Make sure you provide labels on the horizontal and vertical axis of the plot (using `plt.xlabel` and `plt.ylabel`), and provide a title (using `plt.title`). If required, zoom in on the interesting part of the plot."
      ]
    },
    {
      "cell_type": "code",
      "execution_count": null,
      "metadata": {
        "id": "oeAM1SglzDap"
      },
      "outputs": [],
      "source": [
        "\n",
        "a = 0.95 # positive value. lowpass, negative value: highpass EDIT: don't change sign now all plots are shown simultaneously!\n",
        "N = 20  # Choose the length you want\n",
        "\n",
        "## Plots\n",
        "\n",
        "# Create and plot \"h\" for a lowpass filter impulse response\n",
        "h = # your code here\n",
        "\n",
        "plt.figure(figsize=(20,20))\n",
        "plt.subplot(221)\n",
        "plt.stem(h,use_line_collection=True)\n",
        "plt.xlabel('n')\n",
        "plt.ylabel('h[n]')\n",
        "plt.title('LPF impulse response h[n]');\n",
        "plt.grid()\n",
        "\n",
        "# Create and plot \"h\" for  highpass filter impulse response\n",
        "# your code here\n",
        "\n",
        "# Create and plot \"h\" for  lowpass filter step response\n",
        "# your code here\n",
        "\n",
        "# Create and plot \"h\" for highpass filter step response\n",
        "# your code here\n"
      ]
    },
    {
      "cell_type": "markdown",
      "metadata": {
        "id": "6doKLxGgMm7e"
      },
      "source": [
        "<font color=#6698FF> # Report task 1 here: describe what you see in the plots. Then discuss: is it what you expect? (Answer the questions posed in the bullet list above.)\n"
      ]
    },
    {
      "cell_type": "markdown",
      "metadata": {
        "id": "F4WuP8EGINGB"
      },
      "source": [
        "## 1.2 Acoustic channel and the Room Impulse Response\n",
        "We will be working with audio signals. Therefore, it is important to understand how to interpret the impulse response of an acoustic channel. First watch the explanatory video about the Room Impulse Response (RIR) below.\n",
        "\n"
      ]
    },
    {
      "cell_type": "code",
      "execution_count": null,
      "metadata": {
        "id": "6nMa0fdPRn9E"
      },
      "outputs": [],
      "source": [
        "YouTubeVideo('YGdQV3hWT_w')"
      ]
    },
    {
      "cell_type": "markdown",
      "metadata": {
        "id": "zT-A2q9OmWYX"
      },
      "source": [
        "Consider a room as follows:"
      ]
    },
    {
      "cell_type": "markdown",
      "metadata": {
        "id": "LwYZTq6m4nWO"
      },
      "source": [
        "#![picture Two](http://drive.google.com/uc?export=view&id=1ysTxsZGELuLuV-K-5oBY8jeDZJwwdVWt)\n",
        "<p align=\"center\">"
      ]
    },
    {
      "cell_type": "markdown",
      "metadata": {
        "id": "1j5mospuINGD"
      },
      "source": [
        "**Exercise Task 2:**\n",
        "Using the virtual source model explained in the video, make a plot of the channel impulse between a transmitter TX and a receiver RX. (Define the x-axis in seconds.)\n",
        "\n",
        "For this exercise, we assume that the walls of the room are perfect reflectors (like mirrors, rather than a diffuse scatterer), and we limit ourselves to the first two reflections. \n",
        "\n",
        "During propagation, the signal is damped as function of the propagated distance $r$. The speed of sound varies as function of temperature, humidity, and air pressure, but let us assume it is\n",
        "$$\n",
        "    c = 340\\; \\mbox{m/s}.\n",
        "$$\n",
        "For the attenuation $\\alpha(r)$, assume that it is a factor\n",
        "$$\n",
        "    \\alpha(r) = \\frac{\\beta}{r},\n",
        "$$\n",
        "where $\\beta$ is the damping over a reference distance of 1 meter.\n",
        "\n",
        "Research a bit on the internet to try to find the correct $\\beta$, but don't spend too much time on this (you can always ask).\n",
        "\n",
        "(Note that the above assumptions are very idealistic. In practice, sound waves are partially reflected off many objects, as function of the wavelength and the size of the object. For a signal of 10 kHz, the wavelength is about 3.4 cm, for 100 Hz, it is 3.4 meters. Objects smaller than the wavelength are usually “transparent”. Thus, the actual propagation channel is also frequency dependent. Further, objects may partially absorb a sound wave (as function of frequency), and may act as diffuse scatterers.)\n",
        "\n",
        "*Hint*: as shown in the video, to compute the effect of a single reflection, we can \"mirror\" the transmitting source into the wall. This will help in computing the distances. How many virtual sources do you have after 1 reflection?  And after 2?  What are their locations? First compute vectors $(\\mathbf{x},\\mathbf{y})$ consisting of the $(x,y)$-coordinates of the virtual sources, then compute their distance to the receiver."
      ]
    },
    {
      "cell_type": "code",
      "execution_count": null,
      "metadata": {
        "id": "Lv1xrkyRINGE"
      },
      "outputs": [],
      "source": [
        "# Put your code for report task 2 here\n",
        "beta = # your code here\n",
        "c = # your code here\n",
        "Rx = np.array([3.1, 3.3])\n",
        "Tx = np.array([1.2, 0.3])\n",
        "\n",
        "## (Virtual) Source locations\n",
        "# Direct path\n",
        "X0 = # your code here\n",
        "Y0 = # your code here\n",
        "\n",
        "# First Reflection, order:  North, East, South, West\n",
        "X1 = # your code here\n",
        "Y1 = # your code here\n",
        "\n",
        "# Second Reflection, order: NS, EN, EW, SN, SE, SW, WN, WE\n",
        "# your code here\n",
        "\n",
        "\n",
        "# Merge paths into single vectors\n",
        "X = # your code here\n",
        "Y = # your code here\n",
        "\n",
        "# Calculate Distance\n",
        "Distance = # your code here\n",
        "\n",
        "# Calculate Delay\n",
        "Delay = # your code here\n",
        "\n",
        "# Calculate Signal Strength\n",
        "SignalStrength = # your code here\n",
        "\n",
        "# Plot\n",
        "plt.figure(figsize=(11,4))\n",
        "plt.stem(Delay, SignalStrength,use_line_collection=True)\n",
        "plt.xlabel('Delay [s]')\n",
        "plt.ylabel('Normalized amplitude')\n",
        "plt.title('Received signal');\n"
      ]
    },
    {
      "cell_type": "markdown",
      "metadata": {
        "id": "vb08VLHiMwxd"
      },
      "source": [
        "<font color=#6698FF> # Report here: discuss what you see in the plot. Is this what you would expect? </font>"
      ]
    },
    {
      "cell_type": "markdown",
      "metadata": {
        "id": "3gVid0tLINGE"
      },
      "source": [
        "## 1.3 Acoustic signals\n",
        "Now that we understand convolution and acoustic signal propagation (a bit), we repeat the convolution exercise on a real audio signal."
      ]
    },
    {
      "cell_type": "markdown",
      "metadata": {
        "id": "eXu2N0SqINGF"
      },
      "source": [
        "The following Python functions could be helpful.\n",
        "\n",
        "* `Fs, x = wavfile.read('/content/train.wav')` reads a .wav soundfile into a vector $\\mathbf{x}$. $F_s$ is the sample rate.\n",
        "* `write(\"file.wav\", Fs, x)` writes a vector $x$ and corresponding sample rate $F_s$ to a .wav soundfile.\n",
        "*  `Audio(x, autoplay=True, rate = Fs)')` Plays the vector $\\mathbf{x}$ with sampling rate Fs."
      ]
    },
    {
      "cell_type": "markdown",
      "source": [
        "Read the sound file `train.mat` into a signal `x`. What is the sample rate `Fs`? Play the signal on the loudspeaker."
      ],
      "metadata": {
        "id": "zc9-vI8yrIgz"
      }
    },
    {
      "cell_type": "markdown",
      "source": [],
      "metadata": {
        "id": "TE_fk3v41HHZ"
      }
    },
    {
      "cell_type": "code",
      "execution_count": null,
      "metadata": {
        "id": "MajxqHP3INGF"
      },
      "outputs": [],
      "source": [
        "Fs, x = wavfile.read('/content/train.wav')\n",
        "Audio(x, autoplay=True, rate = Fs)"
      ]
    },
    {
      "cell_type": "markdown",
      "metadata": {
        "id": "rK2ftVuyINGG"
      },
      "source": [
        "Did you hear a sound?\n",
        "No? Did you run the cell first? Please make sure audio playback works on your device before continuing. If you have any problems ask the TA's or staff."
      ]
    },
    {
      "cell_type": "markdown",
      "metadata": {
        "id": "0BVt03-YINGG"
      },
      "source": [
        "Now generate an impulse response that has a number of reflections by running the following cell:"
      ]
    },
    {
      "cell_type": "code",
      "execution_count": null,
      "metadata": {
        "id": "f7qXweK7INGG"
      },
      "outputs": [],
      "source": [
        "# Create a h vector that has some delayed echos in it\n",
        "index_delay1 = # your code here # First delay\n",
        "index_delay2 = # your code here # Second delay\n",
        "# make h, you can use functions like: np.concatenate, np.ones, np.zeros\n",
        "h = # your code here #Concatenate original and scaled echos\n"
      ]
    },
    {
      "cell_type": "markdown",
      "metadata": {
        "id": "huEVbEqiINGH"
      },
      "source": [
        "Do a convolution $y=x*h$ and listen to the result."
      ]
    },
    {
      "cell_type": "code",
      "execution_count": null,
      "metadata": {
        "id": "mTeqFektINGH"
      },
      "outputs": [],
      "source": [
        "# Make here your code to listen to the result.\n",
        "sound_file_reflections = # your code here\n",
        "Audio(# your code here)"
      ]
    },
    {
      "cell_type": "markdown",
      "metadata": {
        "id": "VPqU7SSxINGI"
      },
      "source": [
        "\"Reverberation\" is the effect of a group of echos, closely together, and exponentially decaying due to multiple reflections (e.g., multiple reflections in a tunnel). Try to create a reverberation effect using a first-order IIR filter of the form you saw at the end of section 1.1):"
      ]
    },
    {
      "cell_type": "code",
      "execution_count": null,
      "metadata": {
        "id": "72YzlfWaINGJ"
      },
      "outputs": [],
      "source": [
        "# Make here your code to listen to the result.\n",
        "# your code here\n",
        "\n",
        "# Plot h\n",
        "# your code here\n",
        "\n",
        "# Play audio\n",
        "# your code here"
      ]
    },
    {
      "cell_type": "markdown",
      "metadata": {
        "id": "IA6t952iINGI"
      },
      "source": [
        "Listen to the result. Does it sound like you are in a tunnel?"
      ]
    },
    {
      "cell_type": "markdown",
      "metadata": {
        "id": "Kg9mj1H5M1Kt"
      },
      "source": [
        "<font color=#6698FF> # Report here </font>"
      ]
    },
    {
      "cell_type": "markdown",
      "metadata": {
        "id": "KsVeO3fqINGJ"
      },
      "source": [
        "## 1.4 Correlation"
      ]
    },
    {
      "cell_type": "markdown",
      "metadata": {
        "id": "oh9X6J6EINGK"
      },
      "source": [
        "For a given time-series $x[n]$, consider the convolution of $x[n]$ with its time-reversed series $x[-n]$:\n",
        "\n",
        "$$ r[n]:=x[n]*x[-n]\\quad\\Leftrightarrow\\quad r[n] = \\displaystyle\\sum_{k=-\\infty}^{\\infty}x[k]x[n+k]$$\n",
        "\n",
        "The second expression shows that $x[k]$ is pointwise multiplied with itself (after a delay of $n$ samples), and then summed. This is interpreted as a **correlation** of $x$ with itself, or an __autocorrelation__, and the delay $n$ is known as the __correlation lag__. (If $x[n]$ is complex, we would correlate with $x^*[-n]$. Also, what is shown here is a deterministic correlation; for random signals the definition uses an expectation operator, as you will see in EE2S31 Signal Processing. Actually the correct definition of the deterministic correlation has a scaling by $1/N$, where $N$ is the number of terms in the summation, so that it converges to the stochastic correlation for large $N$.)"
      ]
    },
    {
      "cell_type": "markdown",
      "metadata": {
        "id": "WT3qWfyWINGK"
      },
      "source": [
        "In the cell below, the autocorrelation of a simple signal $x$ is computed."
      ]
    },
    {
      "cell_type": "code",
      "execution_count": null,
      "metadata": {
        "id": "69Q4v6cPINGL"
      },
      "outputs": [],
      "source": [
        "# Compute the autocorrelation of a vector x\n",
        "x = np.concatenate((np.array([1, -2, 1]),np.reshape(np.zeros((10,1)),-1)))\n",
        "r = np.convolve(x, np.flip(x))"
      ]
    },
    {
      "cell_type": "markdown",
      "metadata": {
        "id": "DbiJjuoPINGL"
      },
      "source": [
        "Herein, `np.flip()` can flip the NumPy array vertically (up-down) or horizontally (left-right). Similarly, the function `np.flipud(x)` flips an array vertically, while `np.fliplr(x)` flips an array horizontally.\n",
        "\n",
        "Plot the result. What is the correct time-axis? (Note that the peak should occur at $n=0$.)"
      ]
    },
    {
      "cell_type": "code",
      "execution_count": null,
      "metadata": {
        "id": "_W3WvHMxINGL"
      },
      "outputs": [],
      "source": [
        "# Correct axis of delay\n",
        "nr = # your code here # define the time axis of the correlation\n",
        "\n",
        "# Plot\n",
        "plt.figure(figsize=(11,4))\n",
        "plt.stem(nr,r,use_line_collection=True)\n",
        "plt.xlabel('n')\n",
        "plt.ylabel('r[n]')\n",
        "plt.title('Autocorrelation of x');"
      ]
    },
    {
      "cell_type": "markdown",
      "metadata": {
        "id": "YFNX2gBOINGL"
      },
      "source": [
        "Correlation functions such as $r[n]$ have many interesting properties and applications. An important one is that $r[n]$ can be interpreted as showing how well a signal $x$ matches a delayed version of itself. The best match is obtained for a lag $n = 0$, and $r[0]$ is interpreted as the __energy__ in the signal. Some properties are:\n",
        "\n",
        "$$r[0]=\\displaystyle\\sum_k\\lvert x[k]\\rvert^2$$\n",
        "$$r[-n]=r[n]$$\n",
        "$$\\lvert r[n]\\rvert \\leq r[0]$$\n",
        "\n",
        "The last property is proven from the general property of the inner product between two vectors $x$ and $y$,\n",
        "for which $\\lvert x^\\top y\\rvert \\leq \\|x\\|\\|y\\|$."
      ]
    },
    {
      "cell_type": "markdown",
      "metadata": {
        "id": "axwJvU6JINGM"
      },
      "source": [
        "Verify these properties from the plot that you made of $r[n]$. Be sure to use the correct time-axis!"
      ]
    },
    {
      "cell_type": "markdown",
      "metadata": {
        "id": "1yL3Rk9OINGM"
      },
      "source": [
        "Suppose we transmit the signal $x[n]$ over an unknown FIR channel $h[n]$ and measure the result at the\n",
        "receiver, $y[n] = x[n] * h[n]$. To estimate $h[n]$ we determine $z[n] = y[n] * x[-n]$, this is known as a matched\n",
        "filter.\n",
        "\n",
        "__Questions:__\n",
        "*   Give a formula for $z[n]$ in terms of $r[n]$"
      ]
    },
    {
      "cell_type": "markdown",
      "metadata": {
        "id": "zwWFu5kqINGN"
      },
      "source": [
        " <font color=#6698FF> # Write your formula here"
      ]
    },
    {
      "cell_type": "markdown",
      "metadata": {
        "id": "cBnNXKzoINGN"
      },
      "source": [
        "*   Take $h[n]=\\delta[n-2]$, i.e. `h = np.array([0, 0, 1])`, and compute the received signal $z[n]$. Plot $z[n]$ (make sure you use the right time-axis!)."
      ]
    },
    {
      "cell_type": "code",
      "execution_count": null,
      "metadata": {
        "id": "JVVxpxlaINGO"
      },
      "outputs": [],
      "source": [
        "h = # your code here \n",
        "\n",
        "z = # your code here # Convolve r with h\n",
        "\n",
        "# Correct axis of delay\n",
        "nh = # your code here \n",
        "nz = # your code here \n",
        "\n",
        "# Plot\n",
        "plt.figure(figsize=(11,4))\n",
        "plt.xlabel('n')\n",
        "plt.ylabel('z[n]')\n",
        "plt.stem(nz,z,use_line_collection=True);"
      ]
    },
    {
      "cell_type": "markdown",
      "metadata": {
        "id": "iSInKJXIINGO"
      },
      "source": [
        "* Next, take $h[n] = \\delta[n-2] + 0.5\\delta[n-3]$ and plot $z[n]$."
      ]
    },
    {
      "cell_type": "code",
      "execution_count": null,
      "metadata": {
        "id": "tEgpSR4oINGO"
      },
      "outputs": [],
      "source": [
        "# Put your code here\n",
        "h2 = # your code here\n",
        "\n",
        "z2 = # your code here # Convolve r with h2\n",
        "\n",
        "# Correct axis of delay\n",
        "nh = # your code here \n",
        "nz = # your code here \n",
        "\n",
        "# Plot\n",
        "plt.figure(figsize=(11,4))\n",
        "plt.xlabel('n')\n",
        "plt.ylabel('z[n]')\n",
        "plt.stem(z2,use_line_collection=True);  # ERROR need to use nz (time axis) here"
      ]
    },
    {
      "cell_type": "markdown",
      "metadata": {
        "id": "VGvTbWzUNB9P"
      },
      "source": [
        "<font color=#6698FF> # Report here: what do you see in the plot? Is this what you would expect? E.g., does z[n] look like h[n]? </font>"
      ]
    },
    {
      "cell_type": "markdown",
      "metadata": {
        "id": "3zRBroJDINGP"
      },
      "source": [
        "What you should observe is the following. We know $z[n] = h[n]*r[n]$, and if the autocorrelation function $r[n]$ has a sharp peak for $n = 0$, then $z[n] \\approx h[n]$. In particular, the delay in the channel is observed from the location of the first peak in $z[n]$. The results are best for signals with “good” autocorrelation properties, i.e., signals with a strong peak at $r[0]$ and low side lobes. We will further investigate the matched filter during Labday 3 and 4."
      ]
    }
  ],
  "metadata": {
    "colab": {
      "provenance": [],
      "toc_visible": true,
      "include_colab_link": true
    },
    "gpuClass": "standard",
    "kernelspec": {
      "display_name": "Python 3",
      "name": "python3"
    },
    "language_info": {
      "name": "python"
    }
  },
  "nbformat": 4,
  "nbformat_minor": 0
}